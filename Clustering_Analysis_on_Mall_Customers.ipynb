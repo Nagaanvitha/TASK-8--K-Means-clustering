{
  "metadata": {
    "kernelspec": {
      "language": "python",
      "display_name": "Python 3",
      "name": "python3"
    },
    "language_info": {
      "name": "python",
      "version": "3.10.12",
      "mimetype": "text/x-python",
      "codemirror_mode": {
        "name": "ipython",
        "version": 3
      },
      "pygments_lexer": "ipython3",
      "nbconvert_exporter": "python",
      "file_extension": ".py"
    },
    "kaggle": {
      "accelerator": "none",
      "dataSources": [
        {
          "sourceId": 74935,
          "sourceType": "datasetVersion",
          "datasetId": 42674
        }
      ],
      "dockerImageVersionId": 30918,
      "isInternetEnabled": true,
      "language": "python",
      "sourceType": "notebook",
      "isGpuEnabled": false
    },
    "colab": {
      "name": "Clustering Analysis on Mall Customers",
      "provenance": []
    }
  },
  "nbformat_minor": 0,
  "nbformat": 4,
  "cells": [
    {
      "source": [
        "# IMPORTANT: RUN THIS CELL IN ORDER TO IMPORT YOUR KAGGLE DATA SOURCES,\n",
        "# THEN FEEL FREE TO DELETE THIS CELL.\n",
        "# NOTE: THIS NOTEBOOK ENVIRONMENT DIFFERS FROM KAGGLE'S PYTHON\n",
        "# ENVIRONMENT SO THERE MAY BE MISSING LIBRARIES USED BY YOUR\n",
        "# NOTEBOOK.\n",
        "import kagglehub\n",
        "vjchoudhary7_customer_segmentation_tutorial_in_python_path = kagglehub.dataset_download('vjchoudhary7/customer-segmentation-tutorial-in-python')\n",
        "\n",
        "print('Data source import complete.')\n"
      ],
      "metadata": {
        "id": "uwNB1BMS1d9L"
      },
      "cell_type": "code",
      "outputs": [],
      "execution_count": null
    },
    {
      "cell_type": "markdown",
      "source": [
        "# Import Libraries"
      ],
      "metadata": {
        "id": "x8fndeLM1d9Q"
      }
    },
    {
      "cell_type": "code",
      "source": [
        "import numpy as np\n",
        "import pandas as pd\n",
        "import matplotlib.pyplot as plt\n",
        "import seaborn as sns\n",
        "import plotly.express as px\n",
        "import scipy.cluster.hierarchy as sch\n",
        "from sklearn.cluster import AgglomerativeClustering, KMeans, DBSCAN\n",
        "from sklearn.preprocessing import StandardScaler\n",
        "from sklearn.metrics import silhouette_score\n",
        "from plotly.offline import init_notebook_mode, iplot\n",
        "init_notebook_mode(connected=True)\n",
        "import warnings\n",
        "warnings.filterwarnings('ignore')"
      ],
      "metadata": {
        "trusted": true,
        "execution": {
          "iopub.status.busy": "2025-04-01T07:00:16.366928Z",
          "iopub.execute_input": "2025-04-01T07:00:16.367248Z",
          "iopub.status.idle": "2025-04-01T07:00:19.614441Z",
          "shell.execute_reply.started": "2025-04-01T07:00:16.367221Z",
          "shell.execute_reply": "2025-04-01T07:00:19.613435Z"
        },
        "id": "R9AIAqNr1d9S"
      },
      "outputs": [],
      "execution_count": null
    },
    {
      "cell_type": "markdown",
      "source": [
        "# Load the dataset"
      ],
      "metadata": {
        "id": "FEqo7w901d9T"
      }
    },
    {
      "cell_type": "code",
      "source": [
        "data = pd.read_csv(\"/kaggle/input/customer-segmentation-tutorial-in-python/Mall_Customers.csv\")\n",
        "data"
      ],
      "metadata": {
        "trusted": true,
        "execution": {
          "iopub.status.busy": "2025-04-01T07:00:22.709487Z",
          "iopub.execute_input": "2025-04-01T07:00:22.709823Z",
          "iopub.status.idle": "2025-04-01T07:00:22.755693Z",
          "shell.execute_reply.started": "2025-04-01T07:00:22.709798Z",
          "shell.execute_reply": "2025-04-01T07:00:22.75464Z"
        },
        "id": "4ym3463q1d9T"
      },
      "outputs": [],
      "execution_count": null
    },
    {
      "cell_type": "code",
      "source": [
        "data.info()"
      ],
      "metadata": {
        "trusted": true,
        "execution": {
          "iopub.status.busy": "2025-04-01T07:00:25.584767Z",
          "iopub.execute_input": "2025-04-01T07:00:25.585145Z",
          "iopub.status.idle": "2025-04-01T07:00:25.610555Z",
          "shell.execute_reply.started": "2025-04-01T07:00:25.585103Z",
          "shell.execute_reply": "2025-04-01T07:00:25.609458Z"
        },
        "id": "bHQQSUBU1d9U"
      },
      "outputs": [],
      "execution_count": null
    },
    {
      "cell_type": "code",
      "source": [
        "data.describe()"
      ],
      "metadata": {
        "trusted": true,
        "execution": {
          "iopub.status.busy": "2025-04-01T07:00:40.089299Z",
          "iopub.execute_input": "2025-04-01T07:00:40.089706Z",
          "iopub.status.idle": "2025-04-01T07:00:40.113916Z",
          "shell.execute_reply.started": "2025-04-01T07:00:40.089676Z",
          "shell.execute_reply": "2025-04-01T07:00:40.112927Z"
        },
        "id": "4VSHvW2G1d9U"
      },
      "outputs": [],
      "execution_count": null
    },
    {
      "cell_type": "code",
      "source": [
        "sns.pairplot(data, hue='Gender', kind='scatter', diag_kind='kde', palette='Set1')\n",
        "plt.title(\"Pairplot of Data\")\n",
        "plt.show()"
      ],
      "metadata": {
        "trusted": true,
        "execution": {
          "iopub.status.busy": "2025-04-01T07:00:43.487534Z",
          "iopub.execute_input": "2025-04-01T07:00:43.487861Z",
          "iopub.status.idle": "2025-04-01T07:00:48.805064Z",
          "shell.execute_reply.started": "2025-04-01T07:00:43.487833Z",
          "shell.execute_reply": "2025-04-01T07:00:48.803903Z"
        },
        "id": "wqoo8NVW1d9V"
      },
      "outputs": [],
      "execution_count": null
    },
    {
      "cell_type": "markdown",
      "source": [
        "#  Select relevant columns"
      ],
      "metadata": {
        "id": "v__htAym1d9W"
      }
    },
    {
      "cell_type": "code",
      "source": [
        "data = data[['Annual Income (k$)', 'Spending Score (1-100)']]"
      ],
      "metadata": {
        "trusted": true,
        "execution": {
          "iopub.status.busy": "2025-04-01T07:03:12.380569Z",
          "iopub.execute_input": "2025-04-01T07:03:12.380913Z",
          "iopub.status.idle": "2025-04-01T07:03:12.386606Z",
          "shell.execute_reply.started": "2025-04-01T07:03:12.380887Z",
          "shell.execute_reply": "2025-04-01T07:03:12.385459Z"
        },
        "id": "tjLh9CKY1d9W"
      },
      "outputs": [],
      "execution_count": null
    },
    {
      "cell_type": "markdown",
      "source": [
        "#  Normalize the data for better clustering performance"
      ],
      "metadata": {
        "id": "4J-3eJO61d9W"
      }
    },
    {
      "cell_type": "code",
      "source": [
        "scaler = StandardScaler()\n",
        "X = scaler.fit_transform(data)"
      ],
      "metadata": {
        "trusted": true,
        "execution": {
          "iopub.status.busy": "2025-04-01T07:03:16.131973Z",
          "iopub.execute_input": "2025-04-01T07:03:16.132299Z",
          "iopub.status.idle": "2025-04-01T07:03:16.140465Z",
          "shell.execute_reply.started": "2025-04-01T07:03:16.132273Z",
          "shell.execute_reply": "2025-04-01T07:03:16.139236Z"
        },
        "id": "web_GaOY1d9X"
      },
      "outputs": [],
      "execution_count": null
    },
    {
      "cell_type": "markdown",
      "source": [
        "#  Plot the Dendrogram to determine the optimal number of clusters"
      ],
      "metadata": {
        "id": "gIg9bTCB1d9X"
      }
    },
    {
      "cell_type": "code",
      "source": [
        "plt.figure(figsize=(25, 7))\n",
        "dendrogram = sch.dendrogram(sch.linkage(X, method='ward'))\n",
        "plt.title('Dendrogram for Agglomerative Clustering')\n",
        "plt.xlabel('Data Points')\n",
        "plt.ylabel('Euclidean Distance')\n",
        "plt.show()"
      ],
      "metadata": {
        "trusted": true,
        "execution": {
          "iopub.status.busy": "2025-04-01T07:03:20.510454Z",
          "iopub.execute_input": "2025-04-01T07:03:20.510782Z",
          "iopub.status.idle": "2025-04-01T07:03:22.494014Z",
          "shell.execute_reply.started": "2025-04-01T07:03:20.510758Z",
          "shell.execute_reply": "2025-04-01T07:03:22.492952Z"
        },
        "id": "RY7ic1fs1d9X"
      },
      "outputs": [],
      "execution_count": null
    },
    {
      "cell_type": "markdown",
      "source": [
        "#  Apply Agglomerative Clustering with 5 clusters"
      ],
      "metadata": {
        "id": "z0fEm-nV1d9Y"
      }
    },
    {
      "cell_type": "code",
      "source": [
        "agglom = AgglomerativeClustering(n_clusters=5, metric='euclidean', linkage='ward')\n",
        "y_agglo = agglom.fit_predict(X)\n",
        "data.loc[:, 'Labels'] = y_agglo"
      ],
      "metadata": {
        "trusted": true,
        "execution": {
          "iopub.status.busy": "2025-04-01T07:03:26.381594Z",
          "iopub.execute_input": "2025-04-01T07:03:26.381926Z",
          "iopub.status.idle": "2025-04-01T07:03:26.389564Z",
          "shell.execute_reply.started": "2025-04-01T07:03:26.3819Z",
          "shell.execute_reply": "2025-04-01T07:03:26.38846Z"
        },
        "id": "f1n-jLwX1d9Y"
      },
      "outputs": [],
      "execution_count": null
    },
    {
      "cell_type": "markdown",
      "source": [
        "# Plot Agglomerative Clustering results using Plotly"
      ],
      "metadata": {
        "id": "WRg4Oxhq1d9Y"
      }
    },
    {
      "cell_type": "code",
      "source": [
        "fig = px.scatter(data, x='Annual Income (k$)', y='Spending Score (1-100)',\n",
        "                 color=data['Labels'].astype(str),\n",
        "                 title='Agglomerative Clustering with 5 Clusters',\n",
        "                 labels={'Labels': 'Cluster'},\n",
        "                 color_discrete_sequence=px.colors.qualitative.Set1)\n",
        "iplot(fig)"
      ],
      "metadata": {
        "trusted": true,
        "execution": {
          "iopub.status.busy": "2025-04-01T07:03:29.260841Z",
          "iopub.execute_input": "2025-04-01T07:03:29.261172Z",
          "iopub.status.idle": "2025-04-01T07:03:31.136322Z",
          "shell.execute_reply.started": "2025-04-01T07:03:29.261146Z",
          "shell.execute_reply": "2025-04-01T07:03:31.135289Z"
        },
        "id": "25bSOkDg1d9Y"
      },
      "outputs": [],
      "execution_count": null
    },
    {
      "cell_type": "markdown",
      "source": [
        "#  Apply K-Means Clustering and find the optimal number of clusters using the Elbow Method"
      ],
      "metadata": {
        "id": "_nC9ZFH81d9Z"
      }
    },
    {
      "cell_type": "code",
      "source": [
        "wcss = []\n",
        "for i in range(1, 11):\n",
        "    kmeans = KMeans(n_clusters=i, init='k-means++', n_init=10, random_state=42)\n",
        "    kmeans.fit(X)\n",
        "    wcss.append(kmeans.inertia_)\n",
        "    y_kmeans = kmeans.fit_predict(data[['Annual Income (k$)', 'Spending Score (1-100)']])\n",
        "    data['KMeans_Labels'] = y_kmeans"
      ],
      "metadata": {
        "trusted": true,
        "execution": {
          "iopub.status.busy": "2025-04-01T07:20:00.39Z",
          "iopub.execute_input": "2025-04-01T07:20:00.390448Z",
          "iopub.status.idle": "2025-04-01T07:20:00.767949Z",
          "shell.execute_reply.started": "2025-04-01T07:20:00.390399Z",
          "shell.execute_reply": "2025-04-01T07:20:00.767129Z"
        },
        "id": "WbDoCBVX1d9Z"
      },
      "outputs": [],
      "execution_count": null
    },
    {
      "cell_type": "markdown",
      "source": [
        "# Plot the Elbow Method Graph"
      ],
      "metadata": {
        "id": "gSj1Mnor1d9Z"
      }
    },
    {
      "cell_type": "code",
      "source": [
        "plt.figure(figsize=(8, 5))\n",
        "plt.plot(range(1, 11), wcss, marker='o', linestyle='--', color='purple')\n",
        "plt.xlabel('Number of Clusters')\n",
        "plt.ylabel('WCSS')\n",
        "plt.title('Elbow Method for Optimal K')\n",
        "plt.show()"
      ],
      "metadata": {
        "trusted": true,
        "execution": {
          "iopub.status.busy": "2025-04-01T07:16:57.27867Z",
          "iopub.execute_input": "2025-04-01T07:16:57.279Z",
          "iopub.status.idle": "2025-04-01T07:16:57.478552Z",
          "shell.execute_reply.started": "2025-04-01T07:16:57.278975Z",
          "shell.execute_reply": "2025-04-01T07:16:57.477474Z"
        },
        "id": "zJJFxtv21d9Z"
      },
      "outputs": [],
      "execution_count": null
    },
    {
      "cell_type": "markdown",
      "source": [
        "# Apply DBSCAN Clustering"
      ],
      "metadata": {
        "id": "7YQ2lkSr1d9Z"
      }
    },
    {
      "cell_type": "code",
      "source": [
        "db = DBSCAN(eps=15, min_samples=6)\n",
        "y = db.fit_predict(data[['Annual Income (k$)', 'Spending Score (1-100)']])\n",
        "data['Labels'] = y"
      ],
      "metadata": {
        "trusted": true,
        "execution": {
          "iopub.status.busy": "2025-04-01T07:04:34.793956Z",
          "iopub.execute_input": "2025-04-01T07:04:34.794421Z",
          "iopub.status.idle": "2025-04-01T07:04:34.804437Z",
          "shell.execute_reply.started": "2025-04-01T07:04:34.794386Z",
          "shell.execute_reply": "2025-04-01T07:04:34.803544Z"
        },
        "id": "4OYmvuND1d9Z"
      },
      "outputs": [],
      "execution_count": null
    },
    {
      "cell_type": "markdown",
      "source": [
        "#  Plot DBSCAN results using Plotly"
      ],
      "metadata": {
        "id": "xxCC9tWK1d9a"
      }
    },
    {
      "cell_type": "code",
      "source": [
        "fig = px.scatter(data,\n",
        "                 x='Annual Income (k$)',\n",
        "                 y='Spending Score (1-100)',\n",
        "                 color=data['Labels'].astype(str),\n",
        "                 title='DBSCAN Clustering (eps=15, min_samples=6)',\n",
        "                 labels={'Labels': 'Cluster'},\n",
        "                 color_discrete_sequence=px.colors.qualitative.Set2)\n",
        "\n",
        "fig.update_layout(\n",
        "    xaxis_title=\"Annual Income (k$)\",\n",
        "    yaxis_title=\"Spending Score (1-100)\",\n",
        "    title=\"DBSCAN Clustering (eps=15, min_samples=6)\"\n",
        ")\n",
        "\n",
        "iplot(fig)"
      ],
      "metadata": {
        "trusted": true,
        "execution": {
          "iopub.status.busy": "2025-04-01T07:05:16.489322Z",
          "iopub.execute_input": "2025-04-01T07:05:16.489737Z",
          "iopub.status.idle": "2025-04-01T07:05:16.570262Z",
          "shell.execute_reply.started": "2025-04-01T07:05:16.489708Z",
          "shell.execute_reply": "2025-04-01T07:05:16.569232Z"
        },
        "id": "eGXu-XTj1d9a"
      },
      "outputs": [],
      "execution_count": null
    },
    {
      "cell_type": "markdown",
      "source": [
        "#  Compute Silhouette Scores"
      ],
      "metadata": {
        "id": "n5BN5qbC1d9a"
      }
    },
    {
      "cell_type": "code",
      "source": [
        "kmeans_silhouette = silhouette_score(data[['Annual Income (k$)', 'Spending Score (1-100)']], y_kmeans)\n",
        "agglomerative_silhouette = silhouette_score(data[['Annual Income (k$)', 'Spending Score (1-100)']], y_agglo)\n",
        "dbscan_silhouette = silhouette_score(data[['Annual Income (k$)', 'Spending Score (1-100)']], y)\n",
        "print(\"Silhouette Score:\")\n",
        "print(\"K-Means Silhouette Score:\", kmeans_silhouette)\n",
        "print(\"Agglomerative Clustering Silhouette Score:\", agglomerative_silhouette)\n",
        "print(\"DBSCAN Silhouette Score:\", dbscan_silhouette)"
      ],
      "metadata": {
        "trusted": true,
        "execution": {
          "iopub.status.busy": "2025-04-01T07:20:07.983933Z",
          "iopub.execute_input": "2025-04-01T07:20:07.9843Z",
          "iopub.status.idle": "2025-04-01T07:20:08.003513Z",
          "shell.execute_reply.started": "2025-04-01T07:20:07.984271Z",
          "shell.execute_reply": "2025-04-01T07:20:08.002537Z"
        },
        "id": "pPVDM7xL1d9a"
      },
      "outputs": [],
      "execution_count": null
    },
    {
      "cell_type": "markdown",
      "source": [
        "#  Visualize Cluster Distribution using Pie Chart"
      ],
      "metadata": {
        "id": "LNiqoxIj1d9a"
      }
    },
    {
      "cell_type": "code",
      "source": [
        "pie_fig = px.pie(data, names='Labels', title='Cluster Distribution - Agglomerative Clustering',\n",
        "                 color_discrete_sequence=px.colors.sequential.Purples)\n",
        "iplot(fig)"
      ],
      "metadata": {
        "trusted": true,
        "execution": {
          "iopub.status.busy": "2025-04-01T07:18:12.331683Z",
          "iopub.execute_input": "2025-04-01T07:18:12.331998Z",
          "iopub.status.idle": "2025-04-01T07:18:12.434006Z",
          "shell.execute_reply.started": "2025-04-01T07:18:12.331974Z",
          "shell.execute_reply": "2025-04-01T07:18:12.432926Z"
        },
        "id": "-ts9WjAT1d9a"
      },
      "outputs": [],
      "execution_count": null
    }
  ]
}